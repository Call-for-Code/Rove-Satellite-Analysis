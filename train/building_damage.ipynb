{
 "cells": [
  {
   "cell_type": "code",
   "execution_count": 2,
   "metadata": {},
   "outputs": [],
   "source": [
    "import os"
   ]
  },
  {
   "cell_type": "code",
   "execution_count": 3,
   "metadata": {},
   "outputs": [],
   "source": [
    "original_dataset_dir = '/home/maxwu/jpgs_inverted'"
   ]
  },
  {
   "cell_type": "code",
   "execution_count": 4,
   "metadata": {},
   "outputs": [],
   "source": [
    "train_dir = original_dataset_dir + '/train'\n",
    "val_dir = original_dataset_dir + '/val'\n",
    "test_dir = original_dataset_dir + '/test'\n",
    "\n",
    "trn_NON_dir = original_dataset_dir + '/train/none'\n",
    "trn_AFF_dir = original_dataset_dir + '/train/AFF'\n",
    "trn_MIN_dir = original_dataset_dir + '/train/MIN'\n",
    "trn_MAJ_dir = original_dataset_dir + '/train/MAJ'\n",
    "trn_DES_dir = original_dataset_dir + '/train/DES'\n",
    "\n",
    "val_NON_dir = original_dataset_dir + '/val/none'\n",
    "val_AFF_dir = original_dataset_dir + '/val/AFF'\n",
    "val_MIN_dir = original_dataset_dir + '/val/MIN'\n",
    "val_MAJ_dir = original_dataset_dir + '/val/MAJ'\n",
    "val_DES_dir = original_dataset_dir + '/val/DES'\n",
    "\n",
    "tst_NON_dir = original_dataset_dir + '/test/none'\n",
    "tst_AFF_dir = original_dataset_dir + '/test/AFF'\n",
    "tst_MIN_dir = original_dataset_dir + '/test/MIN'\n",
    "tst_MAJ_dir = original_dataset_dir + '/test/MAJ'\n",
    "tst_DES_dir = original_dataset_dir + '/test/DES'"
   ]
  },
  {
   "cell_type": "code",
   "execution_count": 5,
   "metadata": {},
   "outputs": [
    {
     "name": "stdout",
     "output_type": "stream",
     "text": [
      "Number of Images\n",
      "\n",
      "Train:\n",
      "NON: 6312\n",
      "AFF: 926\n",
      "MIN: 543\n",
      "MAJ: 184\n",
      "DES: 469\n",
      "\n",
      "Validation:\n",
      "NON: 2103\n",
      "AFF: 308\n",
      "MIN: 180\n",
      "MAJ: 65\n",
      "DES: 157\n",
      "\n",
      "Test:\n",
      "NON: 2106\n",
      "AFF: 313\n",
      "MIN: 184\n",
      "MAJ: 60\n",
      "DES: 154\n"
     ]
    }
   ],
   "source": [
    "print('Number of Images')\n",
    "print()\n",
    "\n",
    "print('Train:')\n",
    "print('NON:', len(os.listdir(trn_NON_dir)))\n",
    "print('AFF:', len(os.listdir(trn_AFF_dir)))\n",
    "print('MIN:', len(os.listdir(trn_MIN_dir)))\n",
    "print('MAJ:', len(os.listdir(trn_MAJ_dir)))\n",
    "print('DES:', len(os.listdir(trn_DES_dir)))\n",
    "print()\n",
    "\n",
    "print('Validation:')\n",
    "print('NON:', len(os.listdir(val_NON_dir)))\n",
    "print('AFF:', len(os.listdir(val_AFF_dir)))\n",
    "print('MIN:', len(os.listdir(val_MIN_dir)))\n",
    "print('MAJ:', len(os.listdir(val_MAJ_dir)))\n",
    "print('DES:', len(os.listdir(val_DES_dir)))\n",
    "print()\n",
    "\n",
    "print('Test:')\n",
    "print('NON:', len(os.listdir(tst_NON_dir)))\n",
    "print('AFF:', len(os.listdir(tst_AFF_dir)))\n",
    "print('MIN:', len(os.listdir(tst_MIN_dir)))\n",
    "print('MAJ:', len(os.listdir(tst_MAJ_dir)))\n",
    "print('DES:', len(os.listdir(tst_DES_dir)))"
   ]
  },
  {
   "cell_type": "code",
   "execution_count": 23,
   "metadata": {},
   "outputs": [
    {
     "name": "stderr",
     "output_type": "stream",
     "text": [
      "/usr/local/lib/python3.5/dist-packages/ipykernel_launcher.py:29: UserWarning: Update your `Dense` call to the Keras 2 API: `Dense(512, kernel_regularizer=<keras.reg...)`\n"
     ]
    }
   ],
   "source": [
    "from keras import layers\n",
    "from keras import models\n",
    "from keras.layers import LeakyReLU\n",
    "from keras.regularizers import l2\n",
    "\n",
    "model = models.Sequential()\n",
    "model.add(layers.Conv2D(32,(3,3), input_shape = (128,128,3)))\n",
    "model.add(LeakyReLU(alpha=0.1))\n",
    "model.add(layers.MaxPooling2D((2,2)))\n",
    "#model_l.add(Dropout(0.25))\n",
    "\n",
    "model.add(layers.Conv2D(64,(3,3)))\n",
    "model.add(LeakyReLU(alpha=0.1))\n",
    "model.add(layers.MaxPooling2D((2,2)))\n",
    "#model_l.add(Dropout(0.25))\n",
    "\n",
    "model.add(layers.Conv2D(128,(3,3)))\n",
    "model.add(LeakyReLU(alpha=0.1))\n",
    "model.add(layers.MaxPooling2D((2,2)))\n",
    "#model_l.add(Dropout(0.25))\n",
    "\n",
    "model.add(layers.Conv2D(128,(3,3)))\n",
    "model.add(LeakyReLU(alpha=0.1))\n",
    "model.add(layers.MaxPooling2D((2,2)))\n",
    "#model_l.add(Dropout(0.25))\n",
    "\n",
    "model.add(layers.Flatten())\n",
    "model.add(layers.Dropout(0.5))\n",
    "model.add(layers.Dense(512,W_regularizer = l2(3e-5)))\n",
    "model.add(LeakyReLU(alpha=0.1))\n",
    "model.add(layers.Dropout(0.5))\n",
    "model.add(layers.Dense(5, activation = 'sigmoid'))"
   ]
  },
  {
   "cell_type": "code",
   "execution_count": 24,
   "metadata": {},
   "outputs": [
    {
     "name": "stdout",
     "output_type": "stream",
     "text": [
      "_________________________________________________________________\n",
      "Layer (type)                 Output Shape              Param #   \n",
      "=================================================================\n",
      "conv2d_9 (Conv2D)            (None, 126, 126, 32)      896       \n",
      "_________________________________________________________________\n",
      "leaky_re_lu_11 (LeakyReLU)   (None, 126, 126, 32)      0         \n",
      "_________________________________________________________________\n",
      "max_pooling2d_9 (MaxPooling2 (None, 63, 63, 32)        0         \n",
      "_________________________________________________________________\n",
      "conv2d_10 (Conv2D)           (None, 61, 61, 64)        18496     \n",
      "_________________________________________________________________\n",
      "leaky_re_lu_12 (LeakyReLU)   (None, 61, 61, 64)        0         \n",
      "_________________________________________________________________\n",
      "max_pooling2d_10 (MaxPooling (None, 30, 30, 64)        0         \n",
      "_________________________________________________________________\n",
      "conv2d_11 (Conv2D)           (None, 28, 28, 128)       73856     \n",
      "_________________________________________________________________\n",
      "leaky_re_lu_13 (LeakyReLU)   (None, 28, 28, 128)       0         \n",
      "_________________________________________________________________\n",
      "max_pooling2d_11 (MaxPooling (None, 14, 14, 128)       0         \n",
      "_________________________________________________________________\n",
      "conv2d_12 (Conv2D)           (None, 12, 12, 128)       147584    \n",
      "_________________________________________________________________\n",
      "leaky_re_lu_14 (LeakyReLU)   (None, 12, 12, 128)       0         \n",
      "_________________________________________________________________\n",
      "max_pooling2d_12 (MaxPooling (None, 6, 6, 128)         0         \n",
      "_________________________________________________________________\n",
      "flatten_3 (Flatten)          (None, 4608)              0         \n",
      "_________________________________________________________________\n",
      "dropout_3 (Dropout)          (None, 4608)              0         \n",
      "_________________________________________________________________\n",
      "dense_5 (Dense)              (None, 512)               2359808   \n",
      "_________________________________________________________________\n",
      "leaky_re_lu_15 (LeakyReLU)   (None, 512)               0         \n",
      "_________________________________________________________________\n",
      "dropout_4 (Dropout)          (None, 512)               0         \n",
      "_________________________________________________________________\n",
      "dense_6 (Dense)              (None, 5)                 2565      \n",
      "=================================================================\n",
      "Total params: 2,603,205\n",
      "Trainable params: 2,603,205\n",
      "Non-trainable params: 0\n",
      "_________________________________________________________________\n"
     ]
    }
   ],
   "source": [
    "model.summary()"
   ]
  },
  {
   "cell_type": "code",
   "execution_count": 25,
   "metadata": {},
   "outputs": [],
   "source": [
    "#compile the model with RMSprob with learning rate\n",
    "from keras import optimizers\n",
    "\n",
    "# model.compile(loss = 'categorical_crossentropy', optimizer = optimizers.RMSprop(lr=1e-4), metrics = ['acc'])\n",
    "model.compile(loss = 'categorical_crossentropy', optimizer = optimizers.Adam(), metrics = ['acc'])\n",
    "# model.compile(loss = 'sparse_categorical_crossentropy', optimizer = optimizers.Adam(), metrics = ['acc'])"
   ]
  },
  {
   "cell_type": "code",
   "execution_count": 26,
   "metadata": {},
   "outputs": [
    {
     "name": "stdout",
     "output_type": "stream",
     "text": [
      "Training Set:\n",
      "Found 8434 images belonging to 5 classes.\n",
      "Validation Set:\n",
      "Found 2813 images belonging to 5 classes.\n"
     ]
    }
   ],
   "source": [
    "#process the jpeg image\n",
    "#create an image generator\n",
    "from keras.preprocessing.image import ImageDataGenerator\n",
    "\n",
    "#normalize the image pixel value to be between 0 and 1\n",
    "# train_datagen = ImageDataGenerator(rescale=1./255)\n",
    "# val_datagen = ImageDataGenerator(rescale=1./255)\n",
    "train_datagen = ImageDataGenerator(\n",
    "                    rescale = 1./255,\n",
    "                    rotation_range = 40,\n",
    "                    width_shift_range = 0.2,\n",
    "                    height_shift_range = 0.2,\n",
    "                    shear_range = 0.2,\n",
    "                    zoom_range = 0.2,\n",
    "                    horizontal_flip = True)\n",
    "val_datagen = ImageDataGenerator(rescale = 1./255) #validation data should not be augmented\n",
    "\n",
    "print(\"Training Set:\")\n",
    "train_generator = train_datagen.flow_from_directory(\n",
    "                    train_dir, \n",
    "                    target_size = (128,128),\n",
    "                    batch_size = 25,\n",
    "                    class_mode = 'categorical')\n",
    "\n",
    "print(\"Validation Set:\")\n",
    "validation_generator = val_datagen.flow_from_directory(\n",
    "                    val_dir,\n",
    "                    target_size = (128,128),\n",
    "                    batch_size = 25,\n",
    "                    class_mode = 'categorical')"
   ]
  },
  {
   "cell_type": "code",
   "execution_count": 27,
   "metadata": {},
   "outputs": [
    {
     "name": "stdout",
     "output_type": "stream",
     "text": [
      "Epoch 1/50\n",
      "100/100 [==============================] - 12s 123ms/step - loss: 0.9937 - acc: 0.7412 - val_loss: 0.9126 - val_acc: 0.7568\n",
      "Epoch 2/50\n",
      "100/100 [==============================] - 11s 114ms/step - loss: 0.9223 - acc: 0.7464 - val_loss: 0.9109 - val_acc: 0.7480\n",
      "Epoch 3/50\n",
      "100/100 [==============================] - 11s 114ms/step - loss: 0.9042 - acc: 0.7552 - val_loss: 0.9417 - val_acc: 0.7342\n",
      "Epoch 4/50\n",
      "100/100 [==============================] - 11s 115ms/step - loss: 0.9218 - acc: 0.7448 - val_loss: 0.8785 - val_acc: 0.7552\n",
      "Epoch 5/50\n",
      "100/100 [==============================] - 11s 114ms/step - loss: 0.9063 - acc: 0.7504 - val_loss: 1.0788 - val_acc: 0.7407\n",
      "Epoch 6/50\n",
      "100/100 [==============================] - 11s 115ms/step - loss: 0.9298 - acc: 0.7428 - val_loss: 0.9341 - val_acc: 0.7384\n",
      "Epoch 7/50\n",
      "100/100 [==============================] - 11s 113ms/step - loss: 0.9061 - acc: 0.7558 - val_loss: 0.9042 - val_acc: 0.7488\n",
      "Epoch 8/50\n",
      "100/100 [==============================] - 11s 113ms/step - loss: 0.8881 - acc: 0.7576 - val_loss: 0.8854 - val_acc: 0.7608\n",
      "Epoch 9/50\n",
      "100/100 [==============================] - 11s 114ms/step - loss: 0.9225 - acc: 0.7420 - val_loss: 0.9113 - val_acc: 0.7456\n",
      "Epoch 10/50\n",
      "100/100 [==============================] - 11s 113ms/step - loss: 0.9283 - acc: 0.7408 - val_loss: 0.8948 - val_acc: 0.7577\n",
      "Epoch 11/50\n",
      "100/100 [==============================] - 11s 114ms/step - loss: 0.9088 - acc: 0.7478 - val_loss: 0.8752 - val_acc: 0.7536\n",
      "Epoch 12/50\n",
      "100/100 [==============================] - 11s 115ms/step - loss: 0.8846 - acc: 0.7560 - val_loss: 0.9297 - val_acc: 0.7334\n",
      "Epoch 13/50\n",
      "100/100 [==============================] - 12s 116ms/step - loss: 0.9317 - acc: 0.7380 - val_loss: 0.8847 - val_acc: 0.7504\n",
      "Epoch 14/50\n",
      "100/100 [==============================] - 11s 112ms/step - loss: 0.9110 - acc: 0.7449 - val_loss: 0.9084 - val_acc: 0.7399\n",
      "Epoch 15/50\n",
      "100/100 [==============================] - 11s 114ms/step - loss: 0.8599 - acc: 0.7648 - val_loss: 0.9151 - val_acc: 0.7392\n",
      "Epoch 16/50\n",
      "100/100 [==============================] - 11s 114ms/step - loss: 0.8913 - acc: 0.7508 - val_loss: 0.8679 - val_acc: 0.7601\n",
      "Epoch 17/50\n",
      "100/100 [==============================] - 11s 114ms/step - loss: 0.9350 - acc: 0.7399 - val_loss: 0.9099 - val_acc: 0.7400\n",
      "Epoch 18/50\n",
      "100/100 [==============================] - 12s 115ms/step - loss: 0.8831 - acc: 0.7536 - val_loss: 0.8764 - val_acc: 0.7536\n",
      "Epoch 19/50\n",
      "100/100 [==============================] - 12s 115ms/step - loss: 0.8890 - acc: 0.7552 - val_loss: 0.8982 - val_acc: 0.7488\n",
      "Epoch 20/50\n",
      "100/100 [==============================] - 11s 115ms/step - loss: 0.9295 - acc: 0.7356 - val_loss: 0.9209 - val_acc: 0.7368\n",
      "Epoch 21/50\n",
      "100/100 [==============================] - 11s 114ms/step - loss: 0.8992 - acc: 0.7528 - val_loss: 0.9021 - val_acc: 0.7480\n",
      "Epoch 22/50\n",
      "100/100 [==============================] - 11s 115ms/step - loss: 0.8957 - acc: 0.7516 - val_loss: 0.8460 - val_acc: 0.7648\n",
      "Epoch 23/50\n",
      "100/100 [==============================] - 11s 114ms/step - loss: 0.9196 - acc: 0.7404 - val_loss: 0.8731 - val_acc: 0.7633\n",
      "Epoch 24/50\n",
      "100/100 [==============================] - 11s 112ms/step - loss: 0.9057 - acc: 0.7452 - val_loss: 0.9161 - val_acc: 0.7416\n",
      "Epoch 25/50\n",
      "100/100 [==============================] - 11s 115ms/step - loss: 0.8639 - acc: 0.7588 - val_loss: 0.9184 - val_acc: 0.7302\n",
      "Epoch 26/50\n",
      "100/100 [==============================] - 11s 115ms/step - loss: 0.9067 - acc: 0.7420 - val_loss: 0.9097 - val_acc: 0.7408\n",
      "Epoch 27/50\n",
      "100/100 [==============================] - 11s 114ms/step - loss: 0.9122 - acc: 0.7500 - val_loss: 0.8992 - val_acc: 0.7480\n",
      "Epoch 28/50\n",
      "100/100 [==============================] - 11s 114ms/step - loss: 0.8824 - acc: 0.7541 - val_loss: 0.9120 - val_acc: 0.7383\n",
      "Epoch 29/50\n",
      "100/100 [==============================] - 11s 114ms/step - loss: 0.8911 - acc: 0.7528 - val_loss: 0.8625 - val_acc: 0.7608\n",
      "Epoch 30/50\n",
      "100/100 [==============================] - 11s 114ms/step - loss: 0.9184 - acc: 0.7388 - val_loss: 0.8790 - val_acc: 0.7472\n",
      "Epoch 31/50\n",
      "100/100 [==============================] - 11s 113ms/step - loss: 0.8693 - acc: 0.7585 - val_loss: 0.9236 - val_acc: 0.7416\n",
      "Epoch 32/50\n",
      "100/100 [==============================] - 11s 114ms/step - loss: 0.9091 - acc: 0.7440 - val_loss: 0.8761 - val_acc: 0.7553\n",
      "Epoch 33/50\n",
      "100/100 [==============================] - 11s 114ms/step - loss: 0.8809 - acc: 0.7552 - val_loss: 0.9195 - val_acc: 0.7344\n",
      "Epoch 34/50\n",
      "100/100 [==============================] - 11s 112ms/step - loss: 0.9208 - acc: 0.7334 - val_loss: 0.8563 - val_acc: 0.7649\n",
      "Epoch 35/50\n",
      "100/100 [==============================] - 11s 114ms/step - loss: 0.8765 - acc: 0.7560 - val_loss: 0.9175 - val_acc: 0.7408\n",
      "Epoch 36/50\n",
      "100/100 [==============================] - 11s 113ms/step - loss: 0.9063 - acc: 0.7460 - val_loss: 0.8973 - val_acc: 0.7472\n",
      "Epoch 37/50\n",
      "100/100 [==============================] - 11s 115ms/step - loss: 0.9191 - acc: 0.7404 - val_loss: 0.8503 - val_acc: 0.7674\n",
      "Epoch 38/50\n",
      "100/100 [==============================] - 11s 113ms/step - loss: 0.8828 - acc: 0.7549 - val_loss: 0.9232 - val_acc: 0.7392\n",
      "Epoch 39/50\n",
      "100/100 [==============================] - 11s 114ms/step - loss: 0.8884 - acc: 0.7488 - val_loss: 0.9279 - val_acc: 0.7334\n",
      "Epoch 40/50\n",
      "100/100 [==============================] - 12s 115ms/step - loss: 0.8835 - acc: 0.7584 - val_loss: 0.8594 - val_acc: 0.7648\n",
      "Epoch 41/50\n",
      "100/100 [==============================] - 11s 113ms/step - loss: 0.9186 - acc: 0.7366 - val_loss: 0.9326 - val_acc: 0.7326\n",
      "Epoch 42/50\n",
      "100/100 [==============================] - 11s 113ms/step - loss: 0.8876 - acc: 0.7516 - val_loss: 0.8867 - val_acc: 0.7448\n",
      "Epoch 43/50\n",
      "100/100 [==============================] - 11s 113ms/step - loss: 0.9190 - acc: 0.7388 - val_loss: 0.8877 - val_acc: 0.7536\n",
      "Epoch 44/50\n",
      "100/100 [==============================] - 11s 112ms/step - loss: 0.8813 - acc: 0.7549 - val_loss: 0.8950 - val_acc: 0.7456\n",
      "Epoch 45/50\n",
      "100/100 [==============================] - 11s 113ms/step - loss: 0.9059 - acc: 0.7432 - val_loss: 0.9049 - val_acc: 0.7416\n",
      "Epoch 46/50\n",
      "100/100 [==============================] - 12s 115ms/step - loss: 0.8956 - acc: 0.7476 - val_loss: 0.8850 - val_acc: 0.7520\n",
      "Epoch 47/50\n",
      "100/100 [==============================] - 11s 114ms/step - loss: 0.8950 - acc: 0.7540 - val_loss: 0.8781 - val_acc: 0.7576\n",
      "Epoch 48/50\n",
      "100/100 [==============================] - 11s 113ms/step - loss: 0.8899 - acc: 0.7506 - val_loss: 0.8867 - val_acc: 0.7496\n",
      "Epoch 49/50\n",
      "100/100 [==============================] - 11s 115ms/step - loss: 0.9040 - acc: 0.7436 - val_loss: 0.9705 - val_acc: 0.7280\n",
      "Epoch 50/50\n",
      "100/100 [==============================] - 11s 114ms/step - loss: 0.9039 - acc: 0.7480 - val_loss: 0.8729 - val_acc: 0.7577\n"
     ]
    }
   ],
   "source": [
    "history = model.fit_generator(\n",
    "            train_generator,\n",
    "            steps_per_epoch=100,\n",
    "            epochs=50,\n",
    "            validation_data=validation_generator,\n",
    "            validation_steps=50)"
   ]
  },
  {
   "cell_type": "code",
   "execution_count": 19,
   "metadata": {},
   "outputs": [
    {
     "data": {
      "image/png": "[encoded data removed]",
      "text/plain": [
       "<Figure size 432x288 with 1 Axes>"
      ]
     },
     "metadata": {
      "needs_background": "light"
     },
     "output_type": "display_data"
    },
    {
     "data": {
      "image/png": "[encoded data removed]",
      "text/plain": [
       "<Figure size 432x288 with 1 Axes>"
      ]
     },
     "metadata": {
      "needs_background": "light"
     },
     "output_type": "display_data"
    }
   ],
   "source": [
    "#plot loss and accuracy for detection overfitting\n",
    "import matplotlib.pyplot as plt\n",
    "acc = history.history['acc']\n",
    "val_acc = history.history['val_acc']\n",
    "loss = history.history['loss']\n",
    "val_loss = history.history['val_loss']\n",
    "epochs = range(1,len(acc)+1)\n",
    "plt.plot(epochs, acc, 'bo', label = 'Training acc')\n",
    "plt.plot(epochs, val_acc, 'r', label = 'Validation acc')\n",
    "plt.title('Training and validation accuracy with data aug and dropout')\n",
    "plt.legend()\n",
    "\n",
    "plt.figure()\n",
    "plt.plot(epochs, loss, 'bo', label = 'Training loss')\n",
    "plt.plot(epochs, val_loss, 'r', label = 'Validation loss')\n",
    "plt.title('Training and validation loss with data aug and dropout')\n",
    "plt.legend()\n",
    "\n",
    "plt.show()\n",
    "plt.show()"
   ]
  },
  {
   "cell_type": "code",
   "execution_count": null,
   "metadata": {},
   "outputs": [],
   "source": []
  },
  {
   "cell_type": "code",
   "execution_count": null,
   "metadata": {},
   "outputs": [],
   "source": []
  }
 ],
 "metadata": {
  "kernelspec": {
   "display_name": "Python 3",
   "language": "python",
   "name": "python3"
  },
  "language_info": {
   "codemirror_mode": {
    "name": "ipython",
    "version": 3
   },
   "file_extension": ".py",
   "mimetype": "text/x-python",
   "name": "python",
   "nbconvert_exporter": "python",
   "pygments_lexer": "ipython3",
   "version": "3.5.3"
  }
 },
 "nbformat": 4,
 "nbformat_minor": 2
}
